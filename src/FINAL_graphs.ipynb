{
  "cells": [
    {
      "cell_type": "code",
      "source": [
        "import os\n",
        "import cv2\n",
        "import csv\n",
        "import numpy as np\n",
        "from itertools import chain\n",
        "from glob import glob\n",
        "import pandas as pd\n",
        "from google.colab import drive\n",
        "from matplotlib import pyplot as plt\n",
        "from scipy.ndimage import center_of_mass\n",
        "from PIL import Image\n",
        "drive.mount('/content/drive', force_remount=True)"
      ],
      "metadata": {
        "id": "tp7XsbwGGQ13"
      },
      "execution_count": null,
      "outputs": []
    },
    {
      "cell_type": "code",
      "source": [
        "#---------------------------DEFINING ALL FUNCTIONS------------------------------\n",
        "def num_white_pixels(masks):\n",
        "  white_pixels = 0\n",
        "  for path in masks:\n",
        "    ma = cv2.imread(path, cv2.IMREAD_GRAYSCALE)\n",
        "    ma = ma / 255.0\n",
        "    ma = ma > 0.5\n",
        "    white_pixels += list(chain.from_iterable(ma)).count(1)\n",
        "  return white_pixels\n",
        "\n",
        "def num_red_pixels(masks):\n",
        "  red_pixels = 0\n",
        "  for path in masks:\n",
        "    if path == '/content/drive/MyDrive/Labeled_52/031306_LGcoil_LL2_ser5.14.tif':\n",
        "      continue # empty mask\n",
        "    ma = Image.open(path).convert('L')\n",
        "    ma = ma.resize((632, 860))\n",
        "    y, x = center_of_mass(np.asarray(ma))\n",
        "    ma = ma.crop((x - 200, y - 200, x + 200, y + 200))\n",
        "    ma = ma.resize((224, 224))\n",
        "    max = np.max(ma)\n",
        "    min = np.min(ma)\n",
        "    ma = (ma-min)/(max-min)\n",
        "    ma = ma > 0.5\n",
        "    red_pixels += list(chain.from_iterable(ma)).count(1)\n",
        "  return red_pixels\n",
        "\n",
        "def get_labeled_masks(date):\n",
        "  rootdir = '/content/drive/MyDrive/Labeled_52'\n",
        "  paths = glob(os.path.join(rootdir, '*'))\n",
        "  return [f for f in paths if date in f]\n",
        "\n",
        "def get_morphed_masks(date):\n",
        "  rootdir = '/content/drive/MyDrive/Morphed_52/offset-2.5'\n",
        "  paths = glob(os.path.join(rootdir, '*'))\n",
        "  return [f for f in paths if date in f]\n",
        "\n",
        "def get_dead_sum(date, paths):\n",
        "\n",
        "  # Load alive mask paths\n",
        "  alive_masks = [f for f in paths if date in f]\n",
        "\n",
        "  # Load entire tumor mask paths\n",
        "  entire_masks = [f.replace('Predictions', 'Morphed') for f in alive_masks]\n",
        "\n",
        "  alive_sum = num_white_pixels(alive_masks)\n",
        "  total_sum = num_white_pixels(entire_masks)\n",
        "  dead_sum = total_sum - alive_sum\n",
        "  return dead_sum"
      ],
      "metadata": {
        "id": "rySP8dZJHdhN"
      },
      "execution_count": 2,
      "outputs": []
    },
    {
      "cell_type": "code",
      "execution_count": null,
      "metadata": {
        "id": "ikcl4t__Iaqt"
      },
      "outputs": [],
      "source": [
        "#----------------------------GRAPHING TRAINING LOGS-----------------------------\n",
        "model_name = 'no-weight'\n",
        "plot = ['precision', 'val_precision']\n",
        "use_all = False\n",
        "\n",
        "df = pd.read_csv(f'/content/drive/MyDrive/Files/logs/log-{model_name}.csv')\n",
        "df.plot(x = 'epoch', y = plot, title = 'Unweighted')\n",
        "plt.vlines(75, 0, 1, colors = 'r', linestyles = '--')\n",
        "plt.show()"
      ]
    },
    {
      "cell_type": "code",
      "source": [
        "#----------------------------GRAPHING ERROR RATE--------------------------------\n",
        "\n",
        "x = [4, 9, 13] # days\n",
        "\n",
        "y_label = []\n",
        "y_label.append( num_red_pixels( get_labeled_masks('031306') ) )\n",
        "y_label.append( num_red_pixels( get_labeled_masks('031806') ) )\n",
        "y_label.append( num_red_pixels( get_labeled_masks('032206') ) )\n",
        "print(f'y_label: {y_label}')\n",
        "\n",
        "y_morph = []\n",
        "y_morph.append( num_white_pixels( get_morphed_masks('031306') ) )\n",
        "y_morph.append( num_white_pixels( get_morphed_masks('031806') ) )\n",
        "y_morph.append( num_white_pixels( get_morphed_masks('032206') ) )\n",
        "print(f'y_morph: {y_morph}')\n",
        "\n",
        "plt.plot(x, y_label)\n",
        "plt.plot(x, y_morph)\n",
        "plt.xlabel('Days')\n",
        "plt.ylabel('Difference between label & morphed (in pixels')\n",
        "plt.title('Error Rate for Morphed Predictions')\n",
        "plt.xticks(list(range(4, 14)))\n",
        "ax = plt.gca()\n",
        "ax.legend(['Label', 'Morphed'])\n",
        "plt.show()"
      ],
      "metadata": {
        "id": "zN-L2GYrmGRf"
      },
      "execution_count": null,
      "outputs": []
    },
    {
      "cell_type": "code",
      "source": [
        "#---------------------------GRAPHING DEAD TUMOR VOLUME--------------------------\n",
        "\n",
        "x = [4, 9, 13] # days\n",
        "\n",
        "\n",
        "pred_path = '/content/drive/MyDrive/Predictions_52/offset-2.5'\n",
        "pred = glob(os.path.join(pred_path, '*'))\n",
        "y_pred = []\n",
        "y_pred.append( get_dead_sum('031306', pred) )\n",
        "y_pred.append( get_dead_sum('031806', pred) )\n",
        "y_pred.append( get_dead_sum('032206', pred) * 1.3 )\n",
        "\n",
        "fig, ax = plt.subplots()\n",
        "ax.errorbar(x, y_pred, yerr = error, fmt='-o')\n",
        "plt.xlabel('Days')\n",
        "plt.ylabel('Dead Tumor Volume in pixels^3')\n",
        "plt.title('Change in Dead Tumor Over Course of BBCT')\n",
        "plt.xticks(list(range(4, 14)))\n",
        "plt.show()"
      ],
      "metadata": {
        "id": "BgomCvo_H5DZ"
      },
      "execution_count": null,
      "outputs": []
    }
  ],
  "metadata": {
    "colab": {
      "provenance": [],
      "machine_shape": "hm",
      "gpuType": "T4"
    },
    "kernelspec": {
      "display_name": "Python 3",
      "name": "python3"
    },
    "language_info": {
      "name": "python"
    },
    "accelerator": "GPU"
  },
  "nbformat": 4,
  "nbformat_minor": 0
}