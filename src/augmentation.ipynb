{
  "cells": [
    {
      "cell_type": "code",
      "execution_count": null,
      "metadata": {
        "id": "qgtB-Vq3j7Zp"
      },
      "outputs": [],
      "source": [
        "# Imports\n",
        "import os, cv2, glob\n",
        "import numpy as np\n",
        "from PIL import Image\n",
        "import matplotlib.pyplot as plt\n",
        "from scipy.ndimage import center_of_mass\n",
        "from skimage.filters import gaussian\n",
        "from skimage.util import random_noise\n",
        "from tqdm import tqdm\n",
        "from google.colab import drive\n",
        "drive.mount('/content/drive', force_remount=True)"
      ]
    },
    {
      "cell_type": "code",
      "execution_count": 2,
      "metadata": {
        "id": "rX_wxPhqx0fG"
      },
      "outputs": [],
      "source": [
        "# Initialization\n",
        "\n",
        "# making input and output folders\n",
        "os.makedirs(f\"/content/drive/MyDrive/Input\", exist_ok=True)\n",
        "ROOT = \"/content/drive/MyDrive/Input\"\n",
        "\n",
        "os.makedirs(f\"{ROOT}/in_pics\", exist_ok=True)\n",
        "os.makedirs(f\"{ROOT}/in_masks\", exist_ok=True)\n",
        "\n",
        "os.makedirs(f\"{ROOT}/out_pics\", exist_ok=True)\n",
        "os.makedirs(f\"{ROOT}/out_masks\", exist_ok=True)\n",
        "\n",
        "# change depending on type of input images\n",
        "in_pics_type = \".png\"\n",
        "in_masks_type = \".png\"\n",
        "\n",
        "# defining necessary variables\n",
        "in_pics_path = f\"{ROOT}/in_pics\" # type: png\n",
        "in_masks_path = f\"{ROOT}/in_masks\" # type: png\n",
        "\n",
        "out_pics_path = f\"{ROOT}/out_pics\" # type: jpg\n",
        "out_masks_path = f\"{ROOT}/out_masks\" # type: tif"
      ]
    },
    {
      "cell_type": "code",
      "execution_count": null,
      "metadata": {
        "id": "e6ivQdltx0fJ"
      },
      "outputs": [],
      "source": [
        "# before running this cell, place input images in\n",
        "# Input/in_pics and input masks in Input/in_masks,\n",
        "# where images and corresponding masks have same name\n",
        "pics = os.listdir(in_pics_path)\n",
        "masks = os.listdir(in_pics_path)\n",
        "\n",
        "# lengths should be the same\n",
        "print(f\"{len(pics)} input pics\")\n",
        "print(f\"{len(masks)} input masks\")"
      ]
    },
    {
      "cell_type": "code",
      "execution_count": 8,
      "metadata": {
        "id": "RIAhnKnhx0fM"
      },
      "outputs": [],
      "source": [
        "# Defining functions needed for augmentation\n",
        "\n",
        "# normalization function for augmentation\n",
        "def histNormal(image, min, max):\n",
        "  image = np.asarray(image).astype(float)\n",
        "  image = (image - min) / (max - min) * 255\n",
        "  return np.clip(image, 0, 255)\n",
        "\n",
        "# image saving\n",
        "def im_save(fname, func, image, mask):\n",
        "  newName = f\"{fname}{func}_pics_{str(a)}.jpg\"\n",
        "  newNameMask = f\"{fname}{func}_pics_{str(a)}.tif\"\n",
        "  newPath = out_pics_path + \"/\" + newName\n",
        "  newPathMask = out_masks_path + \"/\" + newNameMask\n",
        "  cv2.imwrite(newPath, image)\n",
        "  mask.save(newPathMask, \"TIFF\")"
      ]
    },
    {
      "cell_type": "code",
      "execution_count": null,
      "metadata": {
        "id": "I2jrfRrHOMmK"
      },
      "outputs": [],
      "source": [
        "# Augmentation\n",
        "\n",
        "for a in tqdm(range(0, 360, 36)): # a = angle of rotation\n",
        "  for fname in pics:\n",
        "    fname = fname.split('.')[0]\n",
        "\n",
        "    image_path = in_pics_path + \"/\" + fname + in_pics_type\n",
        "    mask_path = in_masks_path + \"/\" + fname + in_masks_type\n",
        "    image = Image.open(image_path).convert('L')\n",
        "    mask = Image.open(mask_path).convert('L')\n",
        "\n",
        "    # crop img\n",
        "    y, x = center_of_mass(np.asarray(image))\n",
        "    buff = 75 # change buffer depending on proportion of image that is tumor\n",
        "    image = image.crop((x - buff, y - buff, x + buff, y + buff))\n",
        "    mask = mask.crop((x - buff, y - buff, x + buff, y + buff))\n",
        "\n",
        "    # rotate\n",
        "    image = image.rotate(a,resample=Image.BILINEAR)\n",
        "    mask = mask.rotate(a,resample=Image.BILINEAR)\n",
        "    im_save(fname, \"rotated\", np.asarray(image), mask)\n",
        "\n",
        "    # histogram normalization\n",
        "    histImage = histNormal(image,40,210)\n",
        "    histImage = Image.fromarray(histImage)\n",
        "    histImage = histImage.convert('L')\n",
        "    im_save(fname, \"histNorm\", np.asarray(histImage), mask)\n",
        "\n",
        "    # gaussian blur\n",
        "    gaussImage = gaussian(np.asarray(image), sigma=7)\n",
        "    gaussImage = cv2.normalize(gaussImage, None, 0, 255, cv2.NORM_MINMAX)\n",
        "    im_save(fname, \"gauss\", gaussImage, mask)\n",
        "\n",
        "    # noise\n",
        "    noiseImage = random_noise(np.asarray(image), mode = 'gaussian', var=0.01)\n",
        "    noiseImage = cv2.normalize(noiseImage, None, 0, 255, cv2.NORM_MINMAX)\n",
        "    im_save(fname, \"noise\", noiseImage, mask)"
      ]
    },
    {
      "cell_type": "code",
      "source": [],
      "metadata": {
        "id": "Bpya_OpWzMb9"
      },
      "execution_count": null,
      "outputs": []
    }
  ],
  "metadata": {
    "colab": {
      "provenance": []
    },
    "kernelspec": {
      "display_name": "Python 3",
      "name": "python3"
    },
    "language_info": {
      "name": "python"
    }
  },
  "nbformat": 4,
  "nbformat_minor": 0
}