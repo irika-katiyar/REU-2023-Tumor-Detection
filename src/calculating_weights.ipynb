{
  "nbformat": 4,
  "nbformat_minor": 0,
  "metadata": {
    "colab": {
      "provenance": [],
      "machine_shape": "hm",
      "gpuType": "V100"
    },
    "kernelspec": {
      "name": "python3",
      "display_name": "Python 3"
    },
    "language_info": {
      "name": "python"
    },
    "accelerator": "GPU"
  },
  "cells": [
    {
      "cell_type": "code",
      "execution_count": null,
      "metadata": {
        "id": "rr4MOUR9JWrl"
      },
      "outputs": [],
      "source": [
        "import shutil\n",
        "import os\n",
        "import numpy as np\n",
        "import time\n",
        "import cv2\n",
        "import tqdm\n",
        "from glob import glob\n",
        "from itertools import chain\n",
        "from matplotlib import pyplot as plt\n",
        "from google.colab import drive\n",
        "drive.mount('/content/drive', force_remount=True)"
      ]
    },
    {
      "cell_type": "code",
      "source": [
        "ROOT = \"content/drive/MyDrive/Images\"\n",
        "train_x = glob(f\"{ROOT}/train/images/*.jpg\")\n",
        "train_y = glob(f\"{ROOT}/train/masks/*.tif\")\n",
        "valid_x = glob(f\"{ROOT}/valid/images/*.jpg\")\n",
        "valid_y = glob(f\"{ROOT}/valid/masks/*.tif\")\n",
        "test_x = glob(f\"{ROOT}/test/images/*.jpg\")\n",
        "test_y = glob(f\"{ROOT}/test/masks/*.tif\")\n",
        "\n",
        "print(len(train_x), len(train_y))\n",
        "print(len(valid_x), len(valid_y))\n",
        "print(len(test_x), len(test_y))"
      ],
      "metadata": {
        "id": "pXx0NwSG3cg1"
      },
      "execution_count": null,
      "outputs": []
    },
    {
      "cell_type": "code",
      "source": [
        "def num_white_pixels(masks):\n",
        "  white_pixels = 0\n",
        "  for path in masks:\n",
        "    ma = cv2.imread(path, cv2.IMREAD_GRAYSCALE)\n",
        "    ma = cv2.resize(ma, (224,224)) # corresponding to dim\n",
        "    ma = ma / 255.0\n",
        "    ma = ma > 0.5\n",
        "    white_pixels += list(chain.from_iterable(ma)).count(1)\n",
        "  return white_pixels"
      ],
      "metadata": {
        "id": "LhUnCSRk5llP"
      },
      "execution_count": null,
      "outputs": []
    },
    {
      "cell_type": "code",
      "source": [
        "# Calculating pixels\n",
        "\n",
        "# change below values if wanting to resize images differently\n",
        "dim = 224*224\n",
        "\n",
        "def calc(y):\n",
        "  p = num_white_pixels(y)\n",
        "  b = dim*len(y) - p\n",
        "  total = dim*len(y)\n",
        "\n",
        "  print(f\"pos: {p}\")\n",
        "  print(f\"neg: {b}\")\n",
        "  print(f\"total: {total}\")\n",
        "  print(\" \")\n",
        "\n",
        "  return p, b, total\n",
        "\n",
        "print(\"Train pixel values:\")\n",
        "p_train, b_train, total_train = calc(train_y)\n",
        "\n",
        "print(\"Test pixel values:\")\n",
        "p_test, b_test, total_test = calc(test_y)\n",
        "\n",
        "print(\"Valid pixel values:\")\n",
        "p_valid, b_valid, total_valid = calc(valid_y)\n",
        "\n",
        "# use these values for training if needed\n",
        "print(\"Total pixel values:\")\n",
        "print(f\"pos: {p_train + p_test + p_valid}\")\n",
        "print(f\"neg: {b_train + b_test + b_valid}\")\n",
        "print(f\"total: {total_train + total_test + total_valid}\")\n"
      ],
      "metadata": {
        "id": "Sm4y5HXr4VP0"
      },
      "execution_count": null,
      "outputs": []
    }
  ]
}