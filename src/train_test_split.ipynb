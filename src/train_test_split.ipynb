{
  "cells": [
    {
      "cell_type": "code",
      "execution_count": null,
      "metadata": {
        "id": "rr4MOUR9JWrl"
      },
      "outputs": [],
      "source": [
        "import shutil\n",
        "import os\n",
        "import numpy as np\n",
        "import time\n",
        "import cv2\n",
        "import tqdm\n",
        "from glob import glob\n",
        "from matplotlib import pyplot as plt\n",
        "from sklearn.model_selection import train_test_split\n",
        "from google.colab import drive\n",
        "drive.mount('/content/drive', force_remount=True)"
      ]
    },
    {
      "cell_type": "code",
      "execution_count": null,
      "metadata": {
        "colab": {
          "base_uri": "https://localhost:8080/"
        },
        "id": "3xcMcG8LAedR",
        "outputId": "2f11fd0c-6f51-4ffe-ef39-8186a83c25cd"
      },
      "outputs": [],
      "source": [
        "# output of the train_test_split code\n",
        "ROOT = \"/content/drive/MyDrive/Images\"\n",
        "all_images = glob(f\"{ROOT}/out_pics/*.jpg\")\n",
        "all_masks = glob(f\"{ROOT}/out_masks/*.tif\")\n",
        "\n",
        "# images split into train/val/test\n",
        "# 60% train, 20% val, 20% test \n",
        "train, test = train_test_split(all_images, test_size = 0.4, random_state = 21)\n",
        "test, val = train_test_split(test, test_size = 0.5, random_state = 21)\n",
        "print(f\"{len(train)} training images\")\n",
        "print(f\"{len(valid)} validation images\")\n",
        "print(f\"{len(test)} testing images\")\n",
        "\n",
        "# make mask split using the filepaths from\n",
        "# train, test, val image sets\n",
        "def get_masks(image_paths):\n",
        "  masks = []\n",
        "  for s in train:\n",
        "    end = s.split('out_pics')[1]\n",
        "    end = end[:-3] + \"tif\"\n",
        "    s = s.split('out_pics')[0] + 'out_masks' + end\n",
        "    masks.append(s)\n",
        "  return masks\n",
        "\n",
        "train_masks = get_masks(train)\n",
        "valid_masks = get_masks(valid)\n",
        "test_masks = get_masks(test)\n",
        "print(f\"{len(train_masks)} training masks\")\n",
        "print(f\"{len(valid_masks)} validation masks\")\n",
        "print(f\"{len(test_masks)} testing masks\")\n",
        "\n",
        "# make all necessary folders\n",
        "def make_folders(setname):\n",
        "  os.makedirs(setname, exist_ok=True)\n",
        "  os.chdir(setname)\n",
        "  os.makedirs(\"images\", exist_ok=True)\n",
        "  os.makedirs(\"masks\", exist_ok=True)\n",
        "  os.chdir(\"..\")\n",
        "\n",
        "os.chdir(ROOT)\n",
        "make_folders(\"train\")\n",
        "make_folders(\"test\")\n",
        "make_folders(\"valid\")\n",
        "\n",
        "# move all images into train, test, and split folders\n",
        "def move(src_paths, setname, destname):\n",
        "  failed_moves = 0\n",
        "  for img in src_paths:\n",
        "    try:\n",
        "      dest = move(img, f\"{ROOT}/{setname}/{destname}\")\n",
        "    except:\n",
        "      print(f\"{img} did not move to {setname}/{destname}\")\n",
        "      failed_moves += 1\n",
        "  return failed_moves\n",
        "\n",
        "failed_moves = 0\n",
        "failed_moves += move(train, 'train', 'images')\n",
        "failed_moves += move(train, 'train', 'masks')\n",
        "failed_moves += move(train, 'valid', 'images')\n",
        "failed_moves += move(train, 'valid', 'masks')\n",
        "failed_moves += move(train, 'test', 'images')\n",
        "failed_moves += move(train, 'test', 'masks')\n",
        "print(f\"\\n{failed_moves} failed moves\")"
      ]
    },
    {
      "cell_type": "code",
      "execution_count": null,
      "metadata": {
        "colab": {
          "base_uri": "https://localhost:8080/"
        },
        "id": "YXTEgleFPeVq",
        "outputId": "b883b86c-21f7-4247-cb5a-a1334a671497"
      },
      "outputs": [],
      "source": [
        "# remount drive & see if images/masks have loaded\n",
        "# in their moved locations\n",
        "# note: may need to change ROOT based on your file structure\n",
        "# also, target loading numbers may be different\n",
        "# based on amount of data being used\n",
        "\n",
        "drive.mount(\"/content/drive\", force_remount=True)\n",
        "test = glob(f\"{ROOT}/train/images/*.jpg\")\n",
        "print(f\"train images loaded: {len(test)}/768\")\n",
        "test = glob(f\"{ROOT}/train/masks/*.tif\")\n",
        "print(f\"train masks loaded: {len(test)}/768\")\n",
        "test = glob(f\"{ROOT}/valid/images/*.jpg\")\n",
        "print(f\"valid images loaded: {len(test)}/256\")\n",
        "test = glob(f\"{ROOT}/valid/masks/*.tif\")\n",
        "print(f\"valid masks loaded: {len(test)}/256\")\n",
        "test = glob(f\"{ROOT}/test/images/*.jpg\")\n",
        "print(f\"test images loaded: {len(test)}/256\")\n",
        "test = glob(f\"{ROOT}/test/masks/*.tif\")\n",
        "print(f\"test masks loaded: {len(test)}/256\")"
      ]
    },
    {
      "cell_type": "code",
      "execution_count": null,
      "metadata": {
        "colab": {
          "base_uri": "https://localhost:8080/"
        },
        "id": "hZZoq30ogAN8",
        "outputId": "d7bd4c57-2bd6-4879-a9bc-104ff2ab7820"
      },
      "outputs": [],
      "source": [
        "# checking to see if the image & mask files match\n",
        "\n",
        "a = set(train)\n",
        "b = set(train_masks)\n",
        "c = set()\n",
        "d = set()\n",
        "\n",
        "for s in a:\n",
        "  s = s.split('/')[-1]\n",
        "  c.add(s[:-4])\n",
        "for s in b:\n",
        "  s = s.split('/')[-1]\n",
        "  d.add(s[:-4])\n",
        "\n",
        "if (c.difference(d)) == set():\n",
        "  print(\"All good - mask and image files match!\")\n",
        "else:\n",
        "  print(\"Oops, there are some unmatching mask and image files:\")\n",
        "  print(c.difference(d))"
      ]
    }
  ],
  "metadata": {
    "accelerator": "GPU",
    "colab": {
      "gpuType": "V100",
      "machine_shape": "hm",
      "provenance": []
    },
    "kernelspec": {
      "display_name": "Python 3",
      "name": "python3"
    },
    "language_info": {
      "name": "python"
    }
  },
  "nbformat": 4,
  "nbformat_minor": 0
}
